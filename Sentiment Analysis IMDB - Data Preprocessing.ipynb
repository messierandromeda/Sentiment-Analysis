{
 "cells": [
  {
   "cell_type": "markdown",
   "id": "0e785e41-9f15-400b-abd3-a13f1a1e92e8",
   "metadata": {},
   "source": [
    "## Sentiment Analysis Part 1: Data Preprocessing"
   ]
  },
  {
   "cell_type": "markdown",
   "id": "84f343d2-e1ad-4ce5-b19f-5afe0cdd5fad",
   "metadata": {},
   "source": [
    "Dataset from Kaggle: https://www.kaggle.com/datasets/lakshmi25npathi/imdb-dataset-of-50k-movie-reviews"
   ]
  },
  {
   "cell_type": "code",
   "execution_count": 1,
   "id": "80e26b93-f7b3-4f6a-b9a5-77fd51143049",
   "metadata": {},
   "outputs": [],
   "source": [
    "import pandas as pd"
   ]
  },
  {
   "cell_type": "code",
   "execution_count": 2,
   "id": "96ba4313-b6d5-47ef-9056-47b1ed862a7d",
   "metadata": {},
   "outputs": [],
   "source": [
    "data = pd.read_csv(\"data/IMDB_Dataset.csv\") "
   ]
  },
  {
   "cell_type": "code",
   "execution_count": 3,
   "id": "4ab698ab-2e41-431a-8e14-8889b69fbf9d",
   "metadata": {},
   "outputs": [
    {
     "data": {
      "text/html": [
       "<div>\n",
       "<style scoped>\n",
       "    .dataframe tbody tr th:only-of-type {\n",
       "        vertical-align: middle;\n",
       "    }\n",
       "\n",
       "    .dataframe tbody tr th {\n",
       "        vertical-align: top;\n",
       "    }\n",
       "\n",
       "    .dataframe thead th {\n",
       "        text-align: right;\n",
       "    }\n",
       "</style>\n",
       "<table border=\"1\" class=\"dataframe\">\n",
       "  <thead>\n",
       "    <tr style=\"text-align: right;\">\n",
       "      <th></th>\n",
       "      <th>review</th>\n",
       "      <th>sentiment</th>\n",
       "    </tr>\n",
       "  </thead>\n",
       "  <tbody>\n",
       "    <tr>\n",
       "      <th>0</th>\n",
       "      <td>One of the other reviewers has mentioned that ...</td>\n",
       "      <td>positive</td>\n",
       "    </tr>\n",
       "    <tr>\n",
       "      <th>1</th>\n",
       "      <td>A wonderful little production. &lt;br /&gt;&lt;br /&gt;The...</td>\n",
       "      <td>positive</td>\n",
       "    </tr>\n",
       "    <tr>\n",
       "      <th>2</th>\n",
       "      <td>I thought this was a wonderful way to spend ti...</td>\n",
       "      <td>positive</td>\n",
       "    </tr>\n",
       "    <tr>\n",
       "      <th>3</th>\n",
       "      <td>Basically there's a family where a little boy ...</td>\n",
       "      <td>negative</td>\n",
       "    </tr>\n",
       "    <tr>\n",
       "      <th>4</th>\n",
       "      <td>Petter Mattei's \"Love in the Time of Money\" is...</td>\n",
       "      <td>positive</td>\n",
       "    </tr>\n",
       "  </tbody>\n",
       "</table>\n",
       "</div>"
      ],
      "text/plain": [
       "                                              review sentiment\n",
       "0  One of the other reviewers has mentioned that ...  positive\n",
       "1  A wonderful little production. <br /><br />The...  positive\n",
       "2  I thought this was a wonderful way to spend ti...  positive\n",
       "3  Basically there's a family where a little boy ...  negative\n",
       "4  Petter Mattei's \"Love in the Time of Money\" is...  positive"
      ]
     },
     "execution_count": 3,
     "metadata": {},
     "output_type": "execute_result"
    }
   ],
   "source": [
    "data.head()"
   ]
  },
  {
   "cell_type": "code",
   "execution_count": 4,
   "id": "19153b4f-a445-4fb6-bc8f-f4747cfd442d",
   "metadata": {},
   "outputs": [
    {
     "name": "stdout",
     "output_type": "stream",
     "text": [
      "<class 'pandas.core.frame.DataFrame'>\n",
      "RangeIndex: 50000 entries, 0 to 49999\n",
      "Data columns (total 2 columns):\n",
      " #   Column     Non-Null Count  Dtype \n",
      "---  ------     --------------  ----- \n",
      " 0   review     50000 non-null  object\n",
      " 1   sentiment  50000 non-null  object\n",
      "dtypes: object(2)\n",
      "memory usage: 781.4+ KB\n"
     ]
    }
   ],
   "source": [
    "data.info()"
   ]
  },
  {
   "cell_type": "code",
   "execution_count": 5,
   "id": "9a936ed2-db8d-4447-a4ee-311ea381eaa3",
   "metadata": {},
   "outputs": [
    {
     "data": {
      "text/plain": [
       "sentiment\n",
       "positive    25000\n",
       "negative    25000\n",
       "Name: count, dtype: int64"
      ]
     },
     "execution_count": 5,
     "metadata": {},
     "output_type": "execute_result"
    }
   ],
   "source": [
    "data['sentiment'].value_counts()"
   ]
  },
  {
   "cell_type": "code",
   "execution_count": 6,
   "id": "55f1f44c-ecbd-4f96-8364-3e7320af9c99",
   "metadata": {},
   "outputs": [
    {
     "name": "stdout",
     "output_type": "stream",
     "text": [
      "                                                  review sentiment\n",
      "0      One of the other reviewers has mentioned that ...         1\n",
      "1      A wonderful little production. <br /><br />The...         1\n",
      "2      I thought this was a wonderful way to spend ti...         1\n",
      "3      Basically there's a family where a little boy ...         0\n",
      "4      Petter Mattei's \"Love in the Time of Money\" is...         1\n",
      "...                                                  ...       ...\n",
      "49995  I thought this movie did a down right good job...         1\n",
      "49996  Bad plot, bad dialogue, bad acting, idiotic di...         0\n",
      "49997  I am a Catholic taught in parochial elementary...         0\n",
      "49998  I'm going to have to disagree with the previou...         0\n",
      "49999  No one expects the Star Trek movies to be high...         0\n",
      "\n",
      "[50000 rows x 2 columns]\n"
     ]
    }
   ],
   "source": [
    "dict = {'positive': '1', 'negative': '0'}\n",
    "data = data.replace({\"sentiment\": dict})\n",
    "print(data)"
   ]
  },
  {
   "cell_type": "code",
   "execution_count": 7,
   "id": "8c8236ff-5b7c-475c-aa98-d42154a920fb",
   "metadata": {},
   "outputs": [],
   "source": [
    "def data_preprocessing(text):\n",
    "    text = text.str.lower()  # convert the text into lowercase\n",
    "    text = text.replace(r'<[^<]+?>', ' ', regex=True)  # remove html tags \n",
    "    text = text.replace(r'\\d+', ' ', regex=True)     # remove numbers\n",
    "    text = text.replace(r'[^a-zA-Z\\'\\s]', ' ', regex=True)  # remove everything other than letters and whitespaces\n",
    "    text = text.replace(r'\\s\\s+', ' ', regex=True)   # remove extra whitespaces\n",
    "    return text\n",
    "\n",
    "data['review'] = data_preprocessing(data['review'])\n",
    "\n",
    "data.insert(loc=0, column='id', value=[i for i in range(50000)])\n",
    "data.to_csv('data/clean_dataset_id.csv', index=False)"
   ]
  },
  {
   "cell_type": "code",
   "execution_count": 8,
   "id": "a20cadb9-39a3-4ac7-adec-20c04df961aa",
   "metadata": {},
   "outputs": [],
   "source": [
    "test_data = pd.read_csv(\"data/testData.tsv\", sep='\\t') "
   ]
  },
  {
   "cell_type": "code",
   "execution_count": 9,
   "id": "f5519eb5-fe7b-42ae-bad0-f88cb7ce4934",
   "metadata": {},
   "outputs": [],
   "source": [
    "test_data['review'] = data_preprocessing(test_data['review'])"
   ]
  },
  {
   "cell_type": "code",
   "execution_count": 10,
   "id": "d48f3b16-da4c-4f59-b9e3-70b81f131557",
   "metadata": {},
   "outputs": [],
   "source": [
    "test_data.to_csv('data/clean_testdata.csv', index=False)"
   ]
  },
  {
   "cell_type": "code",
   "execution_count": 11,
   "id": "8b1450d8-dd50-4913-8bcf-62cb22b65582",
   "metadata": {},
   "outputs": [],
   "source": [
    "output = pd.concat([data, test_data])   # combining the train and test data so that they have the same number of features"
   ]
  },
  {
   "cell_type": "code",
   "execution_count": 12,
   "id": "be19b70d-c217-4d98-a8e1-7ed31db4d46a",
   "metadata": {},
   "outputs": [],
   "source": [
    "output.to_csv(\"data/train_test.csv\", index=False)"
   ]
  },
  {
   "cell_type": "code",
   "execution_count": null,
   "id": "c55f7869-3bba-4171-8c07-35d9b9a4a8dd",
   "metadata": {},
   "outputs": [],
   "source": []
  }
 ],
 "metadata": {
  "kernelspec": {
   "display_name": "Python 3 (ipykernel)",
   "language": "python",
   "name": "python3"
  },
  "language_info": {
   "codemirror_mode": {
    "name": "ipython",
    "version": 3
   },
   "file_extension": ".py",
   "mimetype": "text/x-python",
   "name": "python",
   "nbconvert_exporter": "python",
   "pygments_lexer": "ipython3",
   "version": "3.12.5"
  }
 },
 "nbformat": 4,
 "nbformat_minor": 5
}
